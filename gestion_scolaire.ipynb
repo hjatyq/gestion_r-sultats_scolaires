{
 "cells": [
  {
   "cell_type": "markdown",
   "metadata": {},
   "source": [
    "*** Gestion des résultats scolaires  ***"
   ]
  },
  {
   "cell_type": "code",
   "execution_count": null,
   "metadata": {},
   "outputs": [
    {
     "name": "stdout",
     "output_type": "stream",
     "text": [
      "La moyenne de Zaki est : 18.00\n"
     ]
    }
   ],
   "source": [
    "# Dictionnaire des étudiants et leurs notes\n",
    "etudiants = {\n",
    "    \"Bassir\": {\"Math\": 14, \"Physique\": 12, \"Informatique\": 16},\n",
    "    \"Dolmi\": {\"Math\": 15, \"Physique\": 10, \"Informatique\": 14},\n",
    "    \"Zaki\": {\"Math\": 18, \"Physique\": 16, \"Informatique\": 20}\n",
    "}\n",
    "\n",
    "\n",
    "# # Ajouter un nouvel étudiant\n",
    "# def ajouter_etudiant():\n",
    "#     nom = input(\"Nom de l'étudiant : \")\n",
    "#     if nom in etudiants:\n",
    "#         print(\"Cet étudiant existe déjà.\")\n",
    "#         return\n",
    "#     etudiants[nom] = {module: float(input(f\"Note en {module} : \")) for module in [\"Math\", \"Physique\", \"Informatique\"]}\n",
    "#     print(f\"{nom} ajouté avec succès.\")\n",
    "  \n",
    "  \n",
    "# # Ajouter une note pour un étudiant existant  \n",
    "# def ajouter_note():\n",
    "#     nom = input(\"Entrez le nom de l'étudiant : \")\n",
    "#     if nom not in etudiants:\n",
    "#         print(\"Cet étudiant n'existe pas.\")\n",
    "#         return\n",
    "#     module = input(\"Entrez le module : \")\n",
    "#     note = float(input(\"Entrez la note : \"))\n",
    "#     etudiants[nom][module] = note\n",
    "#     print(f\"Note ajoutée pour {nom} en {module}.\")\n",
    "\n",
    "\n",
    "# Fonction pour calculer la moyenne d'un étudiant\n",
    "def moyenne_etudiant():\n",
    "    nom = input(\"Entrez le nom de l'étudiant : \")\n",
    "    if nom not in etudiants:\n",
    "        print(\"Cet étudiant n'existe pas.\")\n",
    "        return\n",
    "    notes = etudiants[nom].values()\n",
    "    moyenne = sum(notes) / len(notes)\n",
    "    print(f\"La moyenne de {nom} est : {moyenne:.2f}\")\n",
    "\n",
    "\n",
    "\n",
    "def moyenne_module():\n",
    "    module=input(\"entrez le module que vous voulez calculer sa moyenne \")\n",
    "    if module not in [\"Math\", \"Physique\", \"Informatique\"]:\n",
    "        print(\"ce module n'existe pas\")\n",
    "        return\n",
    "    \n",
    "moyenne_module()\n"
   ]
  }
 ],
 "metadata": {
  "kernelspec": {
   "display_name": "Python 3",
   "language": "python",
   "name": "python3"
  },
  "language_info": {
   "codemirror_mode": {
    "name": "ipython",
    "version": 3
   },
   "file_extension": ".py",
   "mimetype": "text/x-python",
   "name": "python",
   "nbconvert_exporter": "python",
   "pygments_lexer": "ipython3",
   "version": "3.13.1"
  }
 },
 "nbformat": 4,
 "nbformat_minor": 2
}
